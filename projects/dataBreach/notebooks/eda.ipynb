{
 "cells": [
  {
   "cell_type": "code",
   "execution_count": 3,
   "metadata": {},
   "outputs": [
    {
     "data": {
      "text/html": [
       "\n",
       "            <div>\n",
       "                <p><b>SparkSession - in-memory</b></p>\n",
       "                \n",
       "        <div>\n",
       "            <p><b>SparkContext</b></p>\n",
       "\n",
       "            <p><a href=\"http://localhost:4040\">Spark UI</a></p>\n",
       "\n",
       "            <dl>\n",
       "              <dt>Version</dt>\n",
       "                <dd><code>v3.3.2</code></dd>\n",
       "              <dt>Master</dt>\n",
       "                <dd><code>local[*]</code></dd>\n",
       "              <dt>AppName</dt>\n",
       "                <dd><code>dataBreach</code></dd>\n",
       "            </dl>\n",
       "        </div>\n",
       "        \n",
       "            </div>\n",
       "        "
      ],
      "text/plain": [
       "<pyspark.sql.session.SparkSession at 0x214e784b550>"
      ]
     },
     "execution_count": 3,
     "metadata": {},
     "output_type": "execute_result"
    }
   ],
   "source": [
    "from pyspark.sql import SparkSession\n",
    "import findspark\n",
    "findspark.init(findspark.find())\n",
    "\n",
    "spark = SparkSession.builder.appName(\"dataBreach\").master(\"local[*]\").getOrCreate()\n",
    "spark"
   ]
  },
  {
   "cell_type": "code",
   "execution_count": 8,
   "metadata": {},
   "outputs": [],
   "source": [
    "df = spark.read.csv(\"D:\\Learning\\GIT\\workspace\\datasets\\dataBreaches.csv\",inferSchema=True,header=True)\n",
    "dataSensDict = {\n",
    "    \"1\": \"Just email address/Online information\",\n",
    "    \"2\": \"SSN/Personal details\",\n",
    "    \"3\": \"Credit card information\",\n",
    "    \"4\": \"Health & other personal records\",\n",
    "    \"5\": \"Full details\"\n",
    "}"
   ]
  },
  {
   "cell_type": "code",
   "execution_count": 9,
   "metadata": {},
   "outputs": [
    {
     "name": "stdout",
     "output_type": "stream",
     "text": [
      "+--------------------+----------------+------------+-------+------+--------------------+----------+--------------+-----------------+----------------+-----------------+----+-----------------+--------------------+--------------------+---+\n",
      "|        organisation|alternative name|records lost|year   |  date|               story|    sector|        method|interesting story|data sensitivity|displayed records|_c11|      source name|     1st source link|     2nd source link| ID|\n",
      "+--------------------+----------------+------------+-------+------+--------------------+----------+--------------+-----------------+----------------+-----------------+----+-----------------+--------------------+--------------------+---+\n",
      "|                Plex|            null| 1,50,00,000|   2022|Aug-22|Intruders access ...|      web |        hacked|             null|               1|             null|null|     Ars technica|https://arstechni...|                null|418|\n",
      "|             Twitter|            null|   54,00,000|   2021|Dec-21|Zero day vulnerab...|       web|        hacked|             null|               2|             null|null|Bleeping Computer|https://www.bleep...|                null|419|\n",
      "|     Shanghai Police|            null|50,00,00,000|   2022|Jul-22|A database contai...| financial|        hacked|             null|               5|\"\"\"one billion\"\"\"|null|     The Register|https://www.there...|                null|420|\n",
      "|City of Amagasaki...|            null|    5,00,000|   2022|Jun-22|An unnamed govern...|government|         oops!|             null|               3|             null|null|              BBC|https://www.bbc.c...|                null|421|\n",
      "|Dubai Real Estate...|            null|    8,00,000|   2022|May-22|Data leak exposes...| financial|    inside job|                y|               1|             null|null|              E24|https://e24.no/in...|                null|417|\n",
      "|              Heroku|            null|      50,000|   2022|Apr-22|\"A compromised to...|      tech|        hacked|             null|               2|             null|null|Bleeping Computer|https://www.bleep...|                null|416|\n",
      "|           Mailchimp|            null|    1,06,586|   2022|Apr-22|Hackers gained ac...|      tech|        hacked|             null|               1|             null|null|Bleeping Computer|https://www.bleep...|                null|415|\n",
      "|             PayHere|            null|   15,80,249|   2022|Mar-22|Sri Lankan paymen...| financial|        hacked|             null|               3|             null|null|         Pay Here|https://blog.payh...|                null|414|\n",
      "|                CDEK|            null| 1,82,18,203|   2022|Mar-22|\"UNVERIFIED. Russ...|    retail|        hacked|             null|               3|      1,90,00,000|null|Have I Been Pwned|https://twitter.c...|                null|413|\n",
      "|Washington State ...|            null|    2,57,000|   2022|Feb-22|The Washington St...|government|        hacked|             null|               3|             null|null|    Seattle Times|https://www.seatt...|                null|412|\n",
      "|           Red Cross|            null|    5,00,000|   2022|Jan-22|A network intrusi...|       NGO|        hacked|             null|               4|             null|null|      Arsetechnia|https://arstechni...|                null|411|\n",
      "|      Open Subtitles|            null|    1,00,000|   2022|Jan-22|                null|       web|        hacked|             null|               1|             null|null|   Open Subtitles|https://forum.ope...|                null|410|\n",
      "|          FlexBooker|            null|   37,00,000|   2022|Jan-22|appointment sched...|       web|        hacked|             null|               3|        37,00,000|null|Bleeping Computer|https://www.bleep...|                null|409|\n",
      "|            LINE Pay|            null|    1,33,000|   2021|Dec-21|                null| financial|poor security |             null|               2|             null|null|     The Register|https://www.there...|                null|408|\n",
      "|           Robinhood|            null|   50,00,937|   2021|Nov-21|a malicious hacke...| financial|        hacked|             null|               2|        50,00,000|null|      Tech Crunch|https://techcrunc...|                null|407|\n",
      "|             GoDaddy|            null|   12,00,000|   2021|Nov-21|Security Incident...|       web|        hacked|             null|               1|             null|null|              SEC|https://techcrunc...|                null|406|\n",
      "|            Travelio|            null|    4,71,376|   2021|Nov-21|The Indonesian re...|      misc|        hacked|             null|               2|         4,70,000|null|   HaveIBeenPwned|https://www.riskb...|                null|405|\n",
      "|                Acer|            null|   30,00,000|   2021|Oct-21|                null|      tech|        hacked|             null|               1|             null|null|     Hot Hardware|https://hothardwa...|                null|404|\n",
      "|             Brewdog|            null|    2,00,000|   2021|Oct-21|BrewDog, one of t...|    retail| poor security|             null|               1|             null|null|       Tech Radar|https://www.techr...|                null|403|\n",
      "|              Nvidia|            null|    1,00,000|   2021|Mar-21|                null|      tech|        hacked|             null|               2|             null|null|     CNN Business|https://edition.c...|https://it.slashd...|401|\n",
      "+--------------------+----------------+------------+-------+------+--------------------+----------+--------------+-----------------+----------------+-----------------+----+-----------------+--------------------+--------------------+---+\n",
      "only showing top 20 rows\n",
      "\n"
     ]
    }
   ],
   "source": [
    "df.show()"
   ]
  }
 ],
 "metadata": {
  "kernelspec": {
   "display_name": "Python 3",
   "language": "python",
   "name": "python3"
  },
  "language_info": {
   "codemirror_mode": {
    "name": "ipython",
    "version": 3
   },
   "file_extension": ".py",
   "mimetype": "text/x-python",
   "name": "python",
   "nbconvert_exporter": "python",
   "pygments_lexer": "ipython3",
   "version": "3.10.10"
  }
 },
 "nbformat": 4,
 "nbformat_minor": 2
}
