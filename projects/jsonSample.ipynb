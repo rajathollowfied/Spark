{
 "cells": [
  {
   "cell_type": "code",
   "execution_count": 51,
   "metadata": {},
   "outputs": [],
   "source": [
    "from pyspark.sql import SparkSession\n",
    "import findspark\n",
    "findspark.init(findspark.find())\n",
    "\n",
    "spark = SparkSession.builder.appName(\"test\").master(\"local[*]\").getOrCreate()"
   ]
  },
  {
   "cell_type": "code",
   "execution_count": 52,
   "metadata": {},
   "outputs": [],
   "source": [
    "_schema = \"order_id String, \\\n",
    "    customer Struct< \\\n",
    "        customer_id String,\\\n",
    "        name Struct<first String, last String>,\\\n",
    "        contact_details Struct<email String, phone String>,\\\n",
    "        address Struct< \\\n",
    "            billing_address Struct< \\\n",
    "                street String,city String,state String, zip String, country String>,\\\n",
    "            shipping_address Struct< \\\n",
    "                street String,city String,state String, zip String, country String>\\\n",
    "            >>,\\\n",
    "        order_date String,\\\n",
    "        items array<Struct<\\\n",
    "            item_id String,product_name String,quantity String, price_per_unit String\\\n",
    "            >>\\\n",
    "    \"\n",
    "df = spark.read.option(\"multiline\",True).format(\"json\").schema(_schema).load(\"D:\\Learning\\GIT\\workspace\\datasets\\sampleJSON.json\")"
   ]
  },
  {
   "cell_type": "code",
   "execution_count": 66,
   "metadata": {},
   "outputs": [
    {
     "name": "stdout",
     "output_type": "stream",
     "text": [
      "+--------+-----------+-----+----+--------------------+-----------+--------------+-----------+-----+-----+-------+--------------+-----------+-----+-----+-------+--------------------+-------+---------------+--------+--------------+\n",
      "|order_id|customer_id|first|last|               email|      phone|        street|       city|state|  zip|country|        street|       city|state|  zip|country|          order_date|item_id|   product_name|quantity|price_per_unit|\n",
      "+--------+-----------+-----+----+--------------------+-----------+--------------+-----------+-----+-----+-------+--------------+-----------+-----+-----+-------+--------------------+-------+---------------+--------+--------------+\n",
      "|ORD12345|  CUST98765| John| Doe|john.doe@example.com|+1234567890|123 Elm Street|Springfield|   IL|62704|    USA|456 Oak Avenue|Springfield|   IL|62705|    USA|2024-12-27T14:35:00Z|ITEM001| Wireless Mouse|       2|         25.99|\n",
      "|ORD12345|  CUST98765| John| Doe|john.doe@example.com|+1234567890|123 Elm Street|Springfield|   IL|62704|    USA|456 Oak Avenue|Springfield|   IL|62705|    USA|2024-12-27T14:35:00Z|ITEM002|Gaming Keyboard|       1|         89.99|\n",
      "+--------+-----------+-----+----+--------------------+-----------+--------------+-----------+-----+-----+-------+--------------+-----------+-----+-----+-------+--------------------+-------+---------------+--------+--------------+\n",
      "\n"
     ]
    }
   ],
   "source": [
    "from pyspark.sql.functions import explode_outer\n",
    "\n",
    "df_exploded = df.withColumn('items',explode_outer(df.items))\n",
    "\n",
    "df_exploded.select(\"order_id\",\"customer.customer_id\",\"customer.name.*\",\"customer.contact_details.*\"\\\n",
    "    ,\"customer.address.billing_address.*\",\"customer.address.shipping_address.*\",\"order_date\",\"items.*\").show()\n"
   ]
  },
  {
   "cell_type": "code",
   "execution_count": 1,
   "metadata": {},
   "outputs": [
    {
     "ename": "NameError",
     "evalue": "name 'spark' is not defined",
     "output_type": "error",
     "traceback": [
      "\u001b[1;31m---------------------------------------------------------------------------\u001b[0m",
      "\u001b[1;31mNameError\u001b[0m                                 Traceback (most recent call last)",
      "Cell \u001b[1;32mIn[1], line 1\u001b[0m\n\u001b[1;32m----> 1\u001b[0m \u001b[43mspark\u001b[49m\u001b[38;5;241m.\u001b[39mstop()\n",
      "\u001b[1;31mNameError\u001b[0m: name 'spark' is not defined"
     ]
    }
   ],
   "source": [
    "spark.stop()"
   ]
  }
 ],
 "metadata": {
  "kernelspec": {
   "display_name": "Python 3",
   "language": "python",
   "name": "python3"
  },
  "language_info": {
   "codemirror_mode": {
    "name": "ipython",
    "version": 3
   },
   "file_extension": ".py",
   "mimetype": "text/x-python",
   "name": "python",
   "nbconvert_exporter": "python",
   "pygments_lexer": "ipython3",
   "version": "3.10.10"
  }
 },
 "nbformat": 4,
 "nbformat_minor": 2
}
